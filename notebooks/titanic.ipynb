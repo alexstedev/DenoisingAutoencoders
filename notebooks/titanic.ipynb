{
 "cells": [
  {
   "attachments": {},
   "cell_type": "markdown",
   "metadata": {},
   "source": [
    "<h1 align = \"center\">Training a DAE on the Titanic Dataset</h1>\n",
    "\n",
    "---"
   ]
  },
  {
   "cell_type": "code",
   "execution_count": null,
   "metadata": {},
   "outputs": [],
   "source": [
    "import os\n",
    "import logging\n",
    "import sys\n",
    "import tqdm"
   ]
  },
  {
   "cell_type": "code",
   "execution_count": 25,
   "metadata": {},
   "outputs": [],
   "source": [
    "import numpy as np\n",
    "import pandas as pd\n",
    "\n",
    "from tabdae.models.model import DAE\n",
    "\n",
    "from sklearn.linear_model import RidgeClassifierCV\n",
    "from sklearn.metrics.pairwise import cosine_similarity"
   ]
  },
  {
   "cell_type": "code",
   "execution_count": null,
   "metadata": {},
   "outputs": [],
   "source": [
    "ROOT = \"..\" # the document root is one level up, that contains all code structure\n",
    "DATA = os.path.join(ROOT, \"data\") # the directory contains all data files, subdirectory (if any) can also be used/defined\n",
    "PROCESSED_DATA = os.path.join(DATA, \"processed\")"
   ]
  },
  {
   "attachments": {},
   "cell_type": "markdown",
   "metadata": {},
   "source": [
    "### Data \n",
    "\n",
    "This is a classification problem, the goal is to predict whether an passenger survived the tragic. "
   ]
  },
  {
   "cell_type": "code",
   "execution_count": 26,
   "metadata": {},
   "outputs": [
    {
     "name": "stdout",
     "output_type": "stream",
     "text": [
      "   pclass  survived                                             name     sex  \\\n",
      "0     1.0         1                    Allen, Miss. Elisabeth Walton  female   \n",
      "1     1.0         1                   Allison, Master. Hudson Trevor    male   \n",
      "2     1.0         0                     Allison, Miss. Helen Loraine  female   \n",
      "3     1.0         0             Allison, Mr. Hudson Joshua Creighton    male   \n",
      "4     1.0         0  Allison, Mrs. Hudson J C (Bessie Waldo Daniels)  female   \n",
      "\n",
      "       age  sibsp  parch  ticket      fare    cabin embarked boat   body  \\\n",
      "0  29.0000    0.0    0.0   24160  211.3375       B5        S    2    NaN   \n",
      "1   0.9167    1.0    2.0  113781  151.5500  C22 C26        S   11    NaN   \n",
      "2   2.0000    1.0    2.0  113781  151.5500  C22 C26        S  NaN    NaN   \n",
      "3  30.0000    1.0    2.0  113781  151.5500  C22 C26        S  NaN  135.0   \n",
      "4  25.0000    1.0    2.0  113781  151.5500  C22 C26        S  NaN    NaN   \n",
      "\n",
      "                         home.dest  \n",
      "0                     St Louis, MO  \n",
      "1  Montreal, PQ / Chesterville, ON  \n",
      "2  Montreal, PQ / Chesterville, ON  \n",
      "3  Montreal, PQ / Chesterville, ON  \n",
      "4  Montreal, PQ / Chesterville, ON  \n"
     ]
    }
   ],
   "source": [
    "df = pd.read_csv(f'{DATA}/titanic.csv')\n",
    "print(df.head())"
   ]
  },
  {
   "cell_type": "code",
   "execution_count": null,
   "metadata": {},
   "outputs": [],
   "source": [
    "y = df['survived']\n",
    "df.drop('survived', axis=1, inplace=True)"
   ]
  },
  {
   "attachments": {},
   "cell_type": "markdown",
   "metadata": {},
   "source": [
    "### DAE model\n",
    "\n",
    "+ By default, the `DAE` model class uses a `Deep Stacked AutoEncoder` network. "
   ]
  },
  {
   "cell_type": "code",
   "execution_count": 27,
   "metadata": {},
   "outputs": [
    {
     "name": "stdout",
     "output_type": "stream",
     "text": [
      "epoch    0 - train loss 1.7711 - valid loss 1.6766\n",
      "epoch   10 - train loss 0.8435 - valid loss 0.6317\n",
      "epoch   20 - train loss 0.8224 - valid loss 0.5992\n",
      "epoch   30 - train loss 0.7894 - valid loss 0.6190\n",
      "epoch   40 - train loss 0.7613 - valid loss 0.6010\n",
      "Epoch 00045: reducing learning rate of group 0 to 3.0000e-05.\n",
      "epoch   50 - train loss 0.7514 - valid loss 0.6045\n",
      "epoch   60 - train loss 0.7597 - valid loss 0.5665\n",
      "Epoch 00063: reducing learning rate of group 0 to 3.0000e-06.\n",
      "epoch   70 - train loss 0.7399 - valid loss 0.5723\n",
      "Epoch 00075: reducing learning rate of group 0 to 3.0000e-07.\n",
      "epoch   80 - train loss 0.7453 - valid loss 0.6087\n",
      "Epoch 00090: reducing learning rate of group 0 to 3.0000e-08.\n",
      "epoch   90 - train loss 0.7622 - valid loss 0.5766\n",
      "epoch  100 - train loss 0.7699 - valid loss 0.6197\n",
      "Epoch 00101: reducing learning rate of group 0 to 3.0000e-09.\n",
      "epoch  110 - train loss 0.7557 - valid loss 0.5963\n",
      "epoch  120 - train loss 0.7441 - valid loss 0.6221\n",
      "epoch  130 - train loss 0.7442 - valid loss 0.5740\n",
      "epoch  140 - train loss 0.7365 - valid loss 0.5764\n",
      "epoch  150 - train loss 0.7388 - valid loss 0.6044\n",
      "epoch  160 - train loss 0.7354 - valid loss 0.5627\n",
      "Early Stopping Triggered, best score is:  0.5397286117076874\n"
     ]
    }
   ],
   "source": [
    "dae = DAE()  \n",
    "dae.fit(df, verbose=1)"
   ]
  },
  {
   "attachments": {},
   "cell_type": "markdown",
   "metadata": {},
   "source": [
    "### Extract Hidden Representations"
   ]
  },
  {
   "cell_type": "code",
   "execution_count": 28,
   "metadata": {},
   "outputs": [
    {
     "name": "stdout",
     "output_type": "stream",
     "text": [
      "(1309, 384)\n",
      "[[0.34836283 0.36228737 0.5858515  0.63929695 0.        ]\n",
      " [0.         0.5106081  0.50572485 1.0189637  0.        ]\n",
      " [0.         0.5026131  0.37263662 0.9599643  0.        ]\n",
      " [0.         0.38337716 0.4179449  0.5958852  0.        ]\n",
      " [0.         0.31011987 0.35858983 0.7810749  0.        ]]\n"
     ]
    }
   ],
   "source": [
    "features = dae.transform(df)\n",
    "print(features.shape)\n",
    "print(features[:5, :5])"
   ]
  },
  {
   "attachments": {},
   "cell_type": "markdown",
   "metadata": {},
   "source": [
    "### Use the Hidden Representation for a Classifier"
   ]
  },
  {
   "cell_type": "code",
   "execution_count": 35,
   "metadata": {},
   "outputs": [
    {
     "name": "stdout",
     "output_type": "stream",
     "text": [
      "5 Fold CV Accuracy: 95.26%\n"
     ]
    }
   ],
   "source": [
    "classifier = RidgeClassifierCV(alphas=[1, 5, 10, 20], cv=5).fit(features, y)\n",
    "print('5 Fold CV Accuracy: {:4.2f}%'.format(np.round(classifier.best_score_ * 100, 4)))"
   ]
  },
  {
   "attachments": {},
   "cell_type": "markdown",
   "metadata": {},
   "source": [
    "### Similarity Query"
   ]
  },
  {
   "cell_type": "code",
   "execution_count": 30,
   "metadata": {},
   "outputs": [],
   "source": [
    "similarity_matrix = cosine_similarity(features)\n",
    "np.fill_diagonal(similarity_matrix, 0)"
   ]
  },
  {
   "cell_type": "code",
   "execution_count": 32,
   "metadata": {},
   "outputs": [
    {
     "data": {
      "text/plain": [
       "pclass                                     1.0\n",
       "name             Allen, Miss. Elisabeth Walton\n",
       "sex                                     female\n",
       "age                                       29.0\n",
       "sibsp                                      0.0\n",
       "parch                                      0.0\n",
       "ticket                                   24160\n",
       "fare                                  211.3375\n",
       "cabin                                       B5\n",
       "embarked                                     S\n",
       "boat                                         2\n",
       "body                                       NaN\n",
       "home.dest                         St Louis, MO\n",
       "pclass                                     1.0\n",
       "name         Madill, Miss. Georgette Alexandra\n",
       "sex                                     female\n",
       "age                                       15.0\n",
       "sibsp                                      0.0\n",
       "parch                                      1.0\n",
       "ticket                                   24160\n",
       "fare                                  211.3375\n",
       "cabin                                       B5\n",
       "embarked                                     S\n",
       "boat                                         2\n",
       "body                                       NaN\n",
       "home.dest                         St Louis, MO\n",
       "dtype: object"
      ]
     },
     "execution_count": 32,
     "metadata": {},
     "output_type": "execute_result"
    }
   ],
   "source": [
    "pd.concat([df.iloc[0, :].T, df.iloc[similarity_matrix[0, :].argmax(), :]])"
   ]
  },
  {
   "cell_type": "code",
   "execution_count": 34,
   "metadata": {},
   "outputs": [
    {
     "data": {
      "text/plain": [
       "pclass                                                  1.0\n",
       "name         Brown, Mrs. John Murray (Caroline Lane Lamson)\n",
       "sex                                                  female\n",
       "age                                                    59.0\n",
       "sibsp                                                   2.0\n",
       "parch                                                   0.0\n",
       "ticket                                                11769\n",
       "fare                                                51.4792\n",
       "cabin                                                  C101\n",
       "embarked                                                  S\n",
       "boat                                                      D\n",
       "body                                                    NaN\n",
       "home.dest                                       Belmont, MA\n",
       "pclass                                                  1.0\n",
       "name          Appleton, Mrs. Edward Dale (Charlotte Lamson)\n",
       "sex                                                  female\n",
       "age                                                    53.0\n",
       "sibsp                                                   2.0\n",
       "parch                                                   0.0\n",
       "ticket                                                11769\n",
       "fare                                                51.4792\n",
       "cabin                                                  C101\n",
       "embarked                                                  S\n",
       "boat                                                      D\n",
       "body                                                    NaN\n",
       "home.dest                               Bayside, Queens, NY\n",
       "dtype: object"
      ]
     },
     "execution_count": 34,
     "metadata": {},
     "output_type": "execute_result"
    }
   ],
   "source": [
    "pd.concat([df.iloc[42, :].T, df.iloc[similarity_matrix[42, :].argmax(), :]])"
   ]
  }
 ],
 "metadata": {
  "kernelspec": {
   "display_name": "dae",
   "language": "python",
   "name": "python3"
  },
  "language_info": {
   "codemirror_mode": {
    "name": "ipython",
    "version": 3
   },
   "file_extension": ".py",
   "mimetype": "text/x-python",
   "name": "python",
   "nbconvert_exporter": "python",
   "pygments_lexer": "ipython3",
   "version": "3.10.12"
  },
  "orig_nbformat": 2
 },
 "nbformat": 4,
 "nbformat_minor": 2
}
